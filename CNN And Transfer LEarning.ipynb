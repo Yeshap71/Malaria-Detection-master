{
 "cells": [
  {
   "cell_type": "markdown",
   "source": [
    "## Creating CNN Using Scratch And Transfer Learning"
   ],
   "metadata": {}
  },
  {
   "cell_type": "markdown",
   "source": [
    "Please download the dataset from the below url"
   ],
   "metadata": {}
  },
  {
   "cell_type": "code",
   "execution_count": null,
   "source": [
    "# import the libraries as shown below\r\n",
    "\r\n",
    "from tensorflow.keras.layers import Input, Lambda, Dense, Flatten,Conv2D\r\n",
    "from tensorflow.keras.models import Model\r\n",
    "from tensorflow.keras.applications.vgg19 import VGG19\r\n",
    "from tensorflow.keras.applications.resnet50 import preprocess_input\r\n",
    "from tensorflow.keras.preprocessing import image\r\n",
    "from tensorflow.keras.preprocessing.image import ImageDataGenerator,load_img\r\n",
    "from tensorflow.keras.models import Sequential\r\n",
    "import numpy as np\r\n",
    "from glob import glob\r\n",
    "import matplotlib.pyplot as plt"
   ],
   "outputs": [],
   "metadata": {}
  },
  {
   "cell_type": "code",
   "execution_count": 2,
   "source": [
    "# re-size all the images to this\r\n",
    "IMAGE_SIZE = [224, 224]\r\n",
    "\r\n",
    "train_path = 'cell_images/Train'\r\n",
    "valid_path = 'cell_images/Test'\r\n"
   ],
   "outputs": [],
   "metadata": {}
  },
  {
   "cell_type": "code",
   "execution_count": 3,
   "source": [
    "# Import the Vgg 16 library as shown below and add preprocessing layer to the front of VGG\r\n",
    "# Here we will be using imagenet weights\r\n",
    "\r\n",
    "mobilnet = VGG19(input_shape=IMAGE_SIZE + [3], weights='imagenet', include_top=False)\r\n",
    "\r\n",
    "\r\n"
   ],
   "outputs": [
    {
     "output_type": "stream",
     "name": "stdout",
     "text": [
      "Downloading data from https://storage.googleapis.com/tensorflow/keras-applications/vgg19/vgg19_weights_tf_dim_ordering_tf_kernels_notop.h5\n",
      "80142336/80134624 [==============================] - 45s 1us/step\n"
     ]
    }
   ],
   "metadata": {}
  },
  {
   "cell_type": "code",
   "execution_count": 4,
   "source": [
    "# don't train existing weights\n",
    "for layer in mobilnet.layers:\n",
    "    layer.trainable = False"
   ],
   "outputs": [],
   "metadata": {}
  },
  {
   "cell_type": "code",
   "execution_count": 5,
   "source": [
    "  # useful for getting number of output classes\n",
    "folders = glob('Dataset/Train/*')"
   ],
   "outputs": [],
   "metadata": {}
  },
  {
   "cell_type": "code",
   "execution_count": 6,
   "source": [
    "folders"
   ],
   "outputs": [
    {
     "output_type": "execute_result",
     "data": {
      "text/plain": [
       "['Dataset/Train\\\\Parasite', 'Dataset/Train\\\\Uninfected']"
      ]
     },
     "metadata": {},
     "execution_count": 6
    }
   ],
   "metadata": {}
  },
  {
   "cell_type": "code",
   "execution_count": 7,
   "source": [
    "# our layers - you can add more if you want\n",
    "x = Flatten()(mobilnet.output)"
   ],
   "outputs": [],
   "metadata": {}
  },
  {
   "cell_type": "code",
   "execution_count": 8,
   "source": [
    "prediction = Dense(len(folders), activation='softmax')(x)\n",
    "\n",
    "# create a model object\n",
    "model = Model(inputs=mobilnet.input, outputs=prediction)"
   ],
   "outputs": [],
   "metadata": {}
  },
  {
   "cell_type": "code",
   "execution_count": 9,
   "source": [
    "\n",
    "# view the structure of the model\n",
    "model.summary()\n"
   ],
   "outputs": [
    {
     "output_type": "stream",
     "name": "stdout",
     "text": [
      "Model: \"model\"\n",
      "_________________________________________________________________\n",
      "Layer (type)                 Output Shape              Param #   \n",
      "=================================================================\n",
      "input_1 (InputLayer)         [(None, 224, 224, 3)]     0         \n",
      "_________________________________________________________________\n",
      "block1_conv1 (Conv2D)        (None, 224, 224, 64)      1792      \n",
      "_________________________________________________________________\n",
      "block1_conv2 (Conv2D)        (None, 224, 224, 64)      36928     \n",
      "_________________________________________________________________\n",
      "block1_pool (MaxPooling2D)   (None, 112, 112, 64)      0         \n",
      "_________________________________________________________________\n",
      "block2_conv1 (Conv2D)        (None, 112, 112, 128)     73856     \n",
      "_________________________________________________________________\n",
      "block2_conv2 (Conv2D)        (None, 112, 112, 128)     147584    \n",
      "_________________________________________________________________\n",
      "block2_pool (MaxPooling2D)   (None, 56, 56, 128)       0         \n",
      "_________________________________________________________________\n",
      "block3_conv1 (Conv2D)        (None, 56, 56, 256)       295168    \n",
      "_________________________________________________________________\n",
      "block3_conv2 (Conv2D)        (None, 56, 56, 256)       590080    \n",
      "_________________________________________________________________\n",
      "block3_conv3 (Conv2D)        (None, 56, 56, 256)       590080    \n",
      "_________________________________________________________________\n",
      "block3_conv4 (Conv2D)        (None, 56, 56, 256)       590080    \n",
      "_________________________________________________________________\n",
      "block3_pool (MaxPooling2D)   (None, 28, 28, 256)       0         \n",
      "_________________________________________________________________\n",
      "block4_conv1 (Conv2D)        (None, 28, 28, 512)       1180160   \n",
      "_________________________________________________________________\n",
      "block4_conv2 (Conv2D)        (None, 28, 28, 512)       2359808   \n",
      "_________________________________________________________________\n",
      "block4_conv3 (Conv2D)        (None, 28, 28, 512)       2359808   \n",
      "_________________________________________________________________\n",
      "block4_conv4 (Conv2D)        (None, 28, 28, 512)       2359808   \n",
      "_________________________________________________________________\n",
      "block4_pool (MaxPooling2D)   (None, 14, 14, 512)       0         \n",
      "_________________________________________________________________\n",
      "block5_conv1 (Conv2D)        (None, 14, 14, 512)       2359808   \n",
      "_________________________________________________________________\n",
      "block5_conv2 (Conv2D)        (None, 14, 14, 512)       2359808   \n",
      "_________________________________________________________________\n",
      "block5_conv3 (Conv2D)        (None, 14, 14, 512)       2359808   \n",
      "_________________________________________________________________\n",
      "block5_conv4 (Conv2D)        (None, 14, 14, 512)       2359808   \n",
      "_________________________________________________________________\n",
      "block5_pool (MaxPooling2D)   (None, 7, 7, 512)         0         \n",
      "_________________________________________________________________\n",
      "flatten (Flatten)            (None, 25088)             0         \n",
      "_________________________________________________________________\n",
      "dense (Dense)                (None, 2)                 50178     \n",
      "=================================================================\n",
      "Total params: 20,074,562\n",
      "Trainable params: 50,178\n",
      "Non-trainable params: 20,024,384\n",
      "_________________________________________________________________\n"
     ]
    }
   ],
   "metadata": {}
  },
  {
   "cell_type": "code",
   "execution_count": 10,
   "source": [
    "from tensorflow.keras.layers import MaxPooling2D"
   ],
   "outputs": [],
   "metadata": {}
  },
  {
   "cell_type": "code",
   "execution_count": 11,
   "source": [
    "### Create Model from scratch using CNN\n",
    "model=Sequential()\n",
    "model.add(Conv2D(filters=16,kernel_size=2,padding=\"same\",activation=\"relu\",input_shape=(224,224,3)))\n",
    "model.add(MaxPooling2D(pool_size=2))\n",
    "model.add(Conv2D(filters=32,kernel_size=2,padding=\"same\",activation =\"relu\"))\n",
    "model.add(MaxPooling2D(pool_size=2))\n",
    "model.add(Conv2D(filters=64,kernel_size=2,padding=\"same\",activation=\"relu\"))\n",
    "model.add(MaxPooling2D(pool_size=2))\n",
    "model.add(Flatten())\n",
    "model.add(Dense(500,activation=\"relu\"))\n",
    "model.add(Dense(2,activation=\"softmax\"))\n",
    "model.summary()"
   ],
   "outputs": [
    {
     "output_type": "stream",
     "name": "stdout",
     "text": [
      "Model: \"sequential\"\n",
      "_________________________________________________________________\n",
      "Layer (type)                 Output Shape              Param #   \n",
      "=================================================================\n",
      "conv2d (Conv2D)              (None, 224, 224, 16)      208       \n",
      "_________________________________________________________________\n",
      "max_pooling2d (MaxPooling2D) (None, 112, 112, 16)      0         \n",
      "_________________________________________________________________\n",
      "conv2d_1 (Conv2D)            (None, 112, 112, 32)      2080      \n",
      "_________________________________________________________________\n",
      "max_pooling2d_1 (MaxPooling2 (None, 56, 56, 32)        0         \n",
      "_________________________________________________________________\n",
      "conv2d_2 (Conv2D)            (None, 56, 56, 64)        8256      \n",
      "_________________________________________________________________\n",
      "max_pooling2d_2 (MaxPooling2 (None, 28, 28, 64)        0         \n",
      "_________________________________________________________________\n",
      "flatten_1 (Flatten)          (None, 50176)             0         \n",
      "_________________________________________________________________\n",
      "dense_1 (Dense)              (None, 500)               25088500  \n",
      "_________________________________________________________________\n",
      "dense_2 (Dense)              (None, 2)                 1002      \n",
      "=================================================================\n",
      "Total params: 25,100,046\n",
      "Trainable params: 25,100,046\n",
      "Non-trainable params: 0\n",
      "_________________________________________________________________\n"
     ]
    }
   ],
   "metadata": {}
  },
  {
   "cell_type": "code",
   "execution_count": 12,
   "source": [
    "# tell the model what cost and optimization method to use\n",
    "model.compile(\n",
    "  loss='categorical_crossentropy',\n",
    "  optimizer='adam',\n",
    "  metrics=['accuracy']\n",
    ")\n"
   ],
   "outputs": [],
   "metadata": {}
  },
  {
   "cell_type": "code",
   "execution_count": 13,
   "source": [
    "# Use the Image Data Generator to import the images from the dataset\n",
    "from tensorflow.keras.preprocessing.image import ImageDataGenerator\n",
    "\n",
    "train_datagen = ImageDataGenerator(rescale = 1./255,\n",
    "                                   shear_range = 0.2,\n",
    "                                   zoom_range = 0.2,\n",
    "                                   horizontal_flip = True)\n",
    "\n",
    "test_datagen = ImageDataGenerator(rescale = 1./255)"
   ],
   "outputs": [],
   "metadata": {}
  },
  {
   "cell_type": "code",
   "execution_count": 14,
   "source": [
    "# Make sure you provide the same target size as initialied for the image size\n",
    "training_set = train_datagen.flow_from_directory('Dataset/Train',\n",
    "                                                 target_size = (224, 224),\n",
    "                                                 batch_size = 32,\n",
    "                                                 class_mode = 'categorical')"
   ],
   "outputs": [
    {
     "output_type": "stream",
     "name": "stdout",
     "text": [
      "Found 416 images belonging to 2 classes.\n"
     ]
    }
   ],
   "metadata": {}
  },
  {
   "cell_type": "code",
   "execution_count": 15,
   "source": [
    "training_set"
   ],
   "outputs": [
    {
     "output_type": "execute_result",
     "data": {
      "text/plain": [
       "<tensorflow.python.keras.preprocessing.image.DirectoryIterator at 0x2235ef06280>"
      ]
     },
     "metadata": {},
     "execution_count": 15
    }
   ],
   "metadata": {}
  },
  {
   "cell_type": "code",
   "execution_count": 16,
   "source": [
    "test_set = test_datagen.flow_from_directory('Dataset/Test',\n",
    "                                            target_size = (224, 224),\n",
    "                                            batch_size = 32,\n",
    "                                            class_mode = 'categorical')"
   ],
   "outputs": [
    {
     "output_type": "stream",
     "name": "stdout",
     "text": [
      "Found 134 images belonging to 2 classes.\n"
     ]
    }
   ],
   "metadata": {}
  },
  {
   "cell_type": "code",
   "execution_count": 19,
   "source": [
    "# fit the model\n",
    "# Run the cell. It will take some time to execute\n",
    "r = model.fit_generator(\n",
    "  training_set,\n",
    "  validation_data=test_set,\n",
    "  epochs=50,\n",
    "  steps_per_epoch=len(training_set),\n",
    "  validation_steps=len(test_set)\n",
    ")"
   ],
   "outputs": [
    {
     "output_type": "stream",
     "name": "stdout",
     "text": [
      "Epoch 1/50\n",
      "13/13 [==============================] - 8s 598ms/step - loss: 0.0341 - accuracy: 0.9880 - val_loss: 0.2356 - val_accuracy: 0.9104\n",
      "Epoch 2/50\n",
      "13/13 [==============================] - 8s 635ms/step - loss: 0.0553 - accuracy: 0.9832 - val_loss: 0.4814 - val_accuracy: 0.8358\n",
      "Epoch 3/50\n",
      "13/13 [==============================] - 8s 571ms/step - loss: 0.0519 - accuracy: 0.9904 - val_loss: 0.1942 - val_accuracy: 0.9179\n",
      "Epoch 4/50\n",
      "13/13 [==============================] - 8s 584ms/step - loss: 0.0445 - accuracy: 0.9856 - val_loss: 0.2485 - val_accuracy: 0.8955\n",
      "Epoch 5/50\n",
      "13/13 [==============================] - 8s 634ms/step - loss: 0.0366 - accuracy: 0.9880 - val_loss: 0.1921 - val_accuracy: 0.9254\n",
      "Epoch 6/50\n",
      "13/13 [==============================] - 8s 596ms/step - loss: 0.0237 - accuracy: 0.9928 - val_loss: 0.2949 - val_accuracy: 0.8806\n",
      "Epoch 7/50\n",
      "13/13 [==============================] - 9s 647ms/step - loss: 0.0385 - accuracy: 0.9880 - val_loss: 0.4045 - val_accuracy: 0.8657\n",
      "Epoch 8/50\n",
      "13/13 [==============================] - 8s 634ms/step - loss: 0.0604 - accuracy: 0.9760 - val_loss: 0.2813 - val_accuracy: 0.8955\n",
      "Epoch 9/50\n",
      "13/13 [==============================] - 9s 664ms/step - loss: 0.0633 - accuracy: 0.9760 - val_loss: 0.3945 - val_accuracy: 0.8358\n",
      "Epoch 10/50\n",
      "13/13 [==============================] - 9s 645ms/step - loss: 0.1474 - accuracy: 0.9399 - val_loss: 0.4397 - val_accuracy: 0.8134\n",
      "Epoch 11/50\n",
      "13/13 [==============================] - 9s 644ms/step - loss: 0.1340 - accuracy: 0.9543 - val_loss: 0.3850 - val_accuracy: 0.8134\n",
      "Epoch 12/50\n",
      "13/13 [==============================] - 9s 646ms/step - loss: 0.0897 - accuracy: 0.9639 - val_loss: 0.1949 - val_accuracy: 0.9030\n",
      "Epoch 13/50\n",
      "13/13 [==============================] - 9s 680ms/step - loss: 0.0597 - accuracy: 0.9736 - val_loss: 0.2065 - val_accuracy: 0.9030\n",
      "Epoch 14/50\n",
      "13/13 [==============================] - 9s 647ms/step - loss: 0.0377 - accuracy: 0.9832 - val_loss: 0.5176 - val_accuracy: 0.8358\n",
      "Epoch 15/50\n",
      "13/13 [==============================] - 9s 650ms/step - loss: 0.0578 - accuracy: 0.9808 - val_loss: 0.3892 - val_accuracy: 0.8433\n",
      "Epoch 16/50\n",
      "13/13 [==============================] - 8s 586ms/step - loss: 0.0603 - accuracy: 0.9760 - val_loss: 0.1791 - val_accuracy: 0.9403\n",
      "Epoch 17/50\n",
      "13/13 [==============================] - 8s 604ms/step - loss: 0.0420 - accuracy: 0.9904 - val_loss: 0.2178 - val_accuracy: 0.9179\n",
      "Epoch 18/50\n",
      "13/13 [==============================] - 7s 558ms/step - loss: 0.0234 - accuracy: 0.9928 - val_loss: 0.3862 - val_accuracy: 0.8806\n",
      "Epoch 19/50\n",
      "13/13 [==============================] - 8s 583ms/step - loss: 0.0338 - accuracy: 0.9904 - val_loss: 0.2056 - val_accuracy: 0.9104\n",
      "Epoch 20/50\n",
      "13/13 [==============================] - 7s 557ms/step - loss: 0.0188 - accuracy: 0.9952 - val_loss: 0.2731 - val_accuracy: 0.9030\n",
      "Epoch 21/50\n",
      "13/13 [==============================] - 8s 569ms/step - loss: 0.0382 - accuracy: 0.9856 - val_loss: 0.8528 - val_accuracy: 0.8134\n",
      "Epoch 22/50\n",
      "13/13 [==============================] - 8s 566ms/step - loss: 0.0765 - accuracy: 0.9712 - val_loss: 0.2182 - val_accuracy: 0.9104\n",
      "Epoch 23/50\n",
      "13/13 [==============================] - 8s 583ms/step - loss: 0.0397 - accuracy: 0.9880 - val_loss: 0.1834 - val_accuracy: 0.9328\n",
      "Epoch 24/50\n",
      "13/13 [==============================] - 8s 569ms/step - loss: 0.0212 - accuracy: 0.9928 - val_loss: 0.2002 - val_accuracy: 0.9254\n",
      "Epoch 25/50\n",
      "13/13 [==============================] - 8s 557ms/step - loss: 0.0151 - accuracy: 0.9952 - val_loss: 0.2435 - val_accuracy: 0.9179\n",
      "Epoch 26/50\n",
      "13/13 [==============================] - 7s 551ms/step - loss: 0.0136 - accuracy: 0.9952 - val_loss: 0.2482 - val_accuracy: 0.9254\n",
      "Epoch 27/50\n",
      "13/13 [==============================] - 7s 557ms/step - loss: 0.0527 - accuracy: 0.9856 - val_loss: 0.3393 - val_accuracy: 0.8806\n",
      "Epoch 28/50\n",
      "13/13 [==============================] - 7s 554ms/step - loss: 0.0446 - accuracy: 0.9856 - val_loss: 0.3290 - val_accuracy: 0.8881\n",
      "Epoch 29/50\n",
      "13/13 [==============================] - 8s 570ms/step - loss: 0.0221 - accuracy: 0.9952 - val_loss: 0.2306 - val_accuracy: 0.9254\n",
      "Epoch 30/50\n",
      "13/13 [==============================] - 8s 570ms/step - loss: 0.0165 - accuracy: 0.9928 - val_loss: 0.2572 - val_accuracy: 0.9254\n",
      "Epoch 31/50\n",
      "13/13 [==============================] - 8s 585ms/step - loss: 0.0227 - accuracy: 0.9952 - val_loss: 0.2539 - val_accuracy: 0.9179\n",
      "Epoch 32/50\n",
      "13/13 [==============================] - 8s 576ms/step - loss: 0.0151 - accuracy: 0.9976 - val_loss: 0.2598 - val_accuracy: 0.9254\n",
      "Epoch 33/50\n",
      "13/13 [==============================] - 8s 563ms/step - loss: 0.0263 - accuracy: 0.9952 - val_loss: 0.1834 - val_accuracy: 0.9328\n",
      "Epoch 34/50\n",
      "13/13 [==============================] - 8s 610ms/step - loss: 0.0190 - accuracy: 0.9952 - val_loss: 0.1881 - val_accuracy: 0.9254\n",
      "Epoch 35/50\n",
      "13/13 [==============================] - 8s 578ms/step - loss: 0.0074 - accuracy: 1.0000 - val_loss: 0.3090 - val_accuracy: 0.9030\n",
      "Epoch 36/50\n",
      "13/13 [==============================] - 8s 623ms/step - loss: 0.0107 - accuracy: 0.9976 - val_loss: 0.2561 - val_accuracy: 0.9179\n",
      "Epoch 37/50\n",
      "13/13 [==============================] - 8s 586ms/step - loss: 0.0086 - accuracy: 0.9976 - val_loss: 0.1866 - val_accuracy: 0.9328\n",
      "Epoch 38/50\n",
      "13/13 [==============================] - 8s 603ms/step - loss: 0.0048 - accuracy: 1.0000 - val_loss: 0.2159 - val_accuracy: 0.9254\n",
      "Epoch 39/50\n",
      "13/13 [==============================] - 8s 603ms/step - loss: 0.0097 - accuracy: 0.9952 - val_loss: 0.1838 - val_accuracy: 0.9328\n",
      "Epoch 40/50\n",
      "13/13 [==============================] - 9s 638ms/step - loss: 0.0085 - accuracy: 0.9976 - val_loss: 0.3953 - val_accuracy: 0.8881\n",
      "Epoch 41/50\n",
      "13/13 [==============================] - 8s 582ms/step - loss: 0.0226 - accuracy: 0.9928 - val_loss: 0.3169 - val_accuracy: 0.9030\n",
      "Epoch 42/50\n",
      "13/13 [==============================] - 8s 623ms/step - loss: 0.0115 - accuracy: 0.9976 - val_loss: 0.2633 - val_accuracy: 0.9328\n",
      "Epoch 43/50\n",
      "13/13 [==============================] - 8s 613ms/step - loss: 0.0077 - accuracy: 1.0000 - val_loss: 0.3897 - val_accuracy: 0.9179\n",
      "Epoch 44/50\n",
      "13/13 [==============================] - 8s 604ms/step - loss: 0.0151 - accuracy: 0.9928 - val_loss: 0.2243 - val_accuracy: 0.9254\n",
      "Epoch 45/50\n",
      "13/13 [==============================] - 9s 710ms/step - loss: 0.0049 - accuracy: 1.0000 - val_loss: 0.3576 - val_accuracy: 0.9104\n",
      "Epoch 46/50\n",
      "13/13 [==============================] - 9s 693ms/step - loss: 0.1043 - accuracy: 0.9832 - val_loss: 0.6358 - val_accuracy: 0.7985\n",
      "Epoch 47/50\n",
      "13/13 [==============================] - 9s 665ms/step - loss: 0.1958 - accuracy: 0.9135 - val_loss: 0.3750 - val_accuracy: 0.8209\n",
      "Epoch 48/50\n",
      "13/13 [==============================] - 8s 617ms/step - loss: 0.2354 - accuracy: 0.9038 - val_loss: 0.3181 - val_accuracy: 0.8507\n",
      "Epoch 49/50\n",
      "13/13 [==============================] - 9s 648ms/step - loss: 0.1076 - accuracy: 0.9784 - val_loss: 0.3583 - val_accuracy: 0.8881\n",
      "Epoch 50/50\n",
      "13/13 [==============================] - 8s 595ms/step - loss: 0.0598 - accuracy: 0.9736 - val_loss: 0.4332 - val_accuracy: 0.8881\n"
     ]
    }
   ],
   "metadata": {
    "scrolled": true
   }
  },
  {
   "cell_type": "code",
   "execution_count": null,
   "source": [],
   "outputs": [],
   "metadata": {}
  },
  {
   "cell_type": "code",
   "execution_count": 20,
   "source": [
    "# plot the loss\n",
    "plt.plot(r.history['loss'], label='train loss')\n",
    "plt.plot(r.history['val_loss'], label='val loss')\n",
    "plt.legend()\n",
    "plt.show()\n",
    "plt.savefig('LossVal_loss')\n",
    "\n",
    "# plot the accuracy\n",
    "plt.plot(r.history['accuracy'], label='train acc')\n",
    "plt.plot(r.history['val_accuracy'], label='val acc')\n",
    "plt.legend()\n",
    "plt.show()\n",
    "plt.savefig('AccVal_acc')"
   ],
   "outputs": [
    {
     "output_type": "display_data",
     "data": {
      "image/png": "[encoded data removed]",
      "text/plain": [
       "<Figure size 432x288 with 1 Axes>"
      ]
     },
     "metadata": {
      "needs_background": "light"
     }
    },
    {
     "output_type": "display_data",
     "data": {
      "image/png": "[encoded data removed]",
      "text/plain": [
       "<Figure size 432x288 with 1 Axes>"
      ]
     },
     "metadata": {
      "needs_background": "light"
     }
    },
    {
     "output_type": "display_data",
     "data": {
      "text/plain": [
       "<Figure size 432x288 with 0 Axes>"
      ]
     },
     "metadata": {}
    }
   ],
   "metadata": {}
  },
  {
   "cell_type": "code",
   "execution_count": 21,
   "source": [
    "# save it as a h5 file\n",
    "\n",
    "\n",
    "from tensorflow.keras.models import load_model\n",
    "\n",
    "model.save('model_vgg19.h5')"
   ],
   "outputs": [],
   "metadata": {}
  },
  {
   "cell_type": "code",
   "execution_count": null,
   "source": [],
   "outputs": [],
   "metadata": {}
  },
  {
   "cell_type": "code",
   "execution_count": 22,
   "source": [
    "\n",
    "y_pred = model.predict(test_set)\n"
   ],
   "outputs": [],
   "metadata": {}
  },
  {
   "cell_type": "code",
   "execution_count": 23,
   "source": [
    "y_pred"
   ],
   "outputs": [
    {
     "output_type": "execute_result",
     "data": {
      "text/plain": [
       "array([[9.91720557e-01, 8.27946048e-03],\n",
       "       [6.26348250e-04, 9.99373734e-01],\n",
       "       [9.99993801e-01, 6.17156456e-06],\n",
       "       [9.62198615e-01, 3.78013775e-02],\n",
       "       [3.38067487e-03, 9.96619344e-01],\n",
       "       [5.67455105e-02, 9.43254471e-01],\n",
       "       [9.99995351e-01, 4.68659482e-06],\n",
       "       [4.82609961e-03, 9.95173872e-01],\n",
       "       [4.73723739e-01, 5.26276290e-01],\n",
       "       [4.56083000e-01, 5.43917000e-01],\n",
       "       [9.79834378e-01, 2.01656744e-02],\n",
       "       [9.97026980e-01, 2.97308993e-03],\n",
       "       [9.58902419e-01, 4.10975292e-02],\n",
       "       [1.00000000e+00, 1.31728584e-08],\n",
       "       [4.08559525e-03, 9.95914400e-01],\n",
       "       [3.06799752e-03, 9.96932030e-01],\n",
       "       [9.97366607e-01, 2.63337418e-03],\n",
       "       [9.99977231e-01, 2.27487180e-05],\n",
       "       [1.49432383e-02, 9.85056698e-01],\n",
       "       [9.99881387e-01, 1.18617514e-04],\n",
       "       [9.99772727e-01, 2.27317170e-04],\n",
       "       [1.00000000e+00, 3.09269055e-08],\n",
       "       [9.95970368e-01, 4.02960228e-03],\n",
       "       [9.86166894e-01, 1.38330543e-02],\n",
       "       [9.87766027e-01, 1.22339670e-02],\n",
       "       [9.99999881e-01, 6.89559698e-08],\n",
       "       [8.29821627e-04, 9.99170184e-01],\n",
       "       [9.88108218e-01, 1.18918261e-02],\n",
       "       [3.70944268e-03, 9.96290565e-01],\n",
       "       [9.99419570e-01, 5.80435211e-04],\n",
       "       [2.38239812e-03, 9.97617543e-01],\n",
       "       [1.05166973e-05, 9.99989510e-01],\n",
       "       [2.57787425e-02, 9.74221230e-01],\n",
       "       [9.97320354e-01, 2.67970329e-03],\n",
       "       [1.00000000e+00, 2.71472533e-09],\n",
       "       [9.97366369e-01, 2.63364217e-03],\n",
       "       [1.00000000e+00, 3.76888755e-12],\n",
       "       [9.99989867e-01, 1.00766983e-05],\n",
       "       [9.90413845e-01, 9.58619080e-03],\n",
       "       [1.71235919e-01, 8.28764141e-01],\n",
       "       [1.18866721e-02, 9.88113344e-01],\n",
       "       [9.96509850e-01, 3.49019258e-03],\n",
       "       [1.00000000e+00, 5.74842549e-19],\n",
       "       [1.15483748e-02, 9.88451600e-01],\n",
       "       [3.48517299e-02, 9.65148211e-01],\n",
       "       [9.99860168e-01, 1.39792755e-04],\n",
       "       [9.99999881e-01, 1.06893403e-07],\n",
       "       [1.19555602e-02, 9.88044441e-01],\n",
       "       [9.98288929e-01, 1.71110709e-03],\n",
       "       [9.31759365e-03, 9.90682364e-01],\n",
       "       [9.99999404e-01, 5.82266750e-07],\n",
       "       [9.85688567e-01, 1.43113928e-02],\n",
       "       [9.88419175e-01, 1.15807727e-02],\n",
       "       [9.99999762e-01, 1.93678218e-07],\n",
       "       [9.99997020e-01, 3.00519218e-06],\n",
       "       [1.00000000e+00, 3.27255723e-11],\n",
       "       [2.83073653e-02, 9.71692622e-01],\n",
       "       [1.29826821e-03, 9.98701692e-01],\n",
       "       [9.99996662e-01, 3.30302873e-06],\n",
       "       [7.46344209e-01, 2.53655821e-01],\n",
       "       [9.99882102e-01, 1.17825904e-04],\n",
       "       [9.40108076e-02, 9.05989170e-01],\n",
       "       [9.59590435e-01, 4.04095314e-02],\n",
       "       [2.72469491e-01, 7.27530539e-01],\n",
       "       [4.21632540e-05, 9.99957800e-01],\n",
       "       [1.99413369e-03, 9.98005927e-01],\n",
       "       [8.06822360e-01, 1.93177670e-01],\n",
       "       [9.99963999e-01, 3.59425430e-05],\n",
       "       [8.43957160e-03, 9.91560400e-01],\n",
       "       [8.19572330e-01, 1.80427700e-01],\n",
       "       [1.12589091e-01, 8.87410879e-01],\n",
       "       [9.93392289e-01, 6.60766941e-03],\n",
       "       [9.99964714e-01, 3.53264913e-05],\n",
       "       [9.99998808e-01, 1.16510432e-06],\n",
       "       [1.00000000e+00, 3.98633908e-08],\n",
       "       [9.50078964e-01, 4.99210954e-02],\n",
       "       [4.57618773e-01, 5.42381227e-01],\n",
       "       [3.26784374e-03, 9.96732116e-01],\n",
       "       [9.99993920e-01, 6.10860570e-06],\n",
       "       [9.99971509e-01, 2.85463229e-05],\n",
       "       [9.99975562e-01, 2.44730363e-05],\n",
       "       [8.71509373e-01, 1.28490642e-01],\n",
       "       [8.49869289e-03, 9.91501331e-01],\n",
       "       [4.15482074e-01, 5.84517896e-01],\n",
       "       [9.99992371e-01, 7.68568134e-06],\n",
       "       [7.55554996e-03, 9.92444456e-01],\n",
       "       [4.10763983e-04, 9.99589264e-01],\n",
       "       [1.00000000e+00, 3.45149638e-11],\n",
       "       [9.99997973e-01, 1.98976500e-06],\n",
       "       [1.63160022e-02, 9.83683944e-01],\n",
       "       [2.25324824e-01, 7.74675190e-01],\n",
       "       [5.96312620e-03, 9.94036913e-01],\n",
       "       [9.99999881e-01, 7.73135369e-08],\n",
       "       [9.99999523e-01, 5.33973719e-07],\n",
       "       [2.84286737e-01, 7.15713263e-01],\n",
       "       [9.99937296e-01, 6.26809051e-05],\n",
       "       [9.98480976e-01, 1.51904614e-03],\n",
       "       [9.90354180e-01, 9.64577869e-03],\n",
       "       [4.06106487e-02, 9.59389389e-01],\n",
       "       [1.11463442e-01, 8.88536572e-01],\n",
       "       [9.99999881e-01, 9.89840103e-08],\n",
       "       [9.99999881e-01, 1.05547151e-07],\n",
       "       [8.08291603e-04, 9.99191701e-01],\n",
       "       [7.51482248e-02, 9.24851775e-01],\n",
       "       [9.93435144e-01, 6.56481506e-03],\n",
       "       [3.03313974e-03, 9.96966898e-01],\n",
       "       [9.99997735e-01, 2.20772813e-06],\n",
       "       [1.00000000e+00, 3.22554570e-12],\n",
       "       [1.00000000e+00, 2.04553301e-11],\n",
       "       [9.87579167e-01, 1.24208434e-02],\n",
       "       [1.45965934e-01, 8.54034066e-01],\n",
       "       [2.87994802e-01, 7.12005258e-01],\n",
       "       [9.99519229e-01, 4.80835064e-04],\n",
       "       [3.43276700e-03, 9.96567249e-01],\n",
       "       [9.99508858e-01, 4.91167011e-04],\n",
       "       [1.52750444e-02, 9.84724939e-01],\n",
       "       [9.82987523e-01, 1.70124713e-02],\n",
       "       [2.96842426e-01, 7.03157604e-01],\n",
       "       [6.66605122e-03, 9.93333995e-01],\n",
       "       [9.99972105e-01, 2.78522148e-05],\n",
       "       [1.00000000e+00, 3.05327426e-08],\n",
       "       [4.29696329e-02, 9.57030416e-01],\n",
       "       [8.52065496e-05, 9.99914765e-01],\n",
       "       [1.00000000e+00, 1.01013968e-10],\n",
       "       [9.99993205e-01, 6.74280227e-06],\n",
       "       [9.99797642e-01, 2.02412964e-04],\n",
       "       [1.13644227e-01, 8.86355817e-01],\n",
       "       [1.58395171e-02, 9.84160483e-01],\n",
       "       [9.99896526e-01, 1.03494458e-04],\n",
       "       [6.38872909e-04, 9.99361098e-01],\n",
       "       [7.08365813e-02, 9.29163396e-01],\n",
       "       [2.08174065e-01, 7.91825950e-01],\n",
       "       [1.00000000e+00, 4.95829140e-18],\n",
       "       [9.87562895e-01, 1.24371080e-02]], dtype=float32)"
      ]
     },
     "metadata": {},
     "execution_count": 23
    }
   ],
   "metadata": {}
  },
  {
   "cell_type": "code",
   "execution_count": 24,
   "source": [
    "import numpy as np\n",
    "y_pred = np.argmax(y_pred, axis=1)"
   ],
   "outputs": [],
   "metadata": {}
  },
  {
   "cell_type": "code",
   "execution_count": 25,
   "source": [
    "y_pred"
   ],
   "outputs": [
    {
     "output_type": "execute_result",
     "data": {
      "text/plain": [
       "array([0, 1, 0, 0, 1, 1, 0, 1, 1, 1, 0, 0, 0, 0, 1, 1, 0, 0, 1, 0, 0, 0,\n",
       "       0, 0, 0, 0, 1, 0, 1, 0, 1, 1, 1, 0, 0, 0, 0, 0, 0, 1, 1, 0, 0, 1,\n",
       "       1, 0, 0, 1, 0, 1, 0, 0, 0, 0, 0, 0, 1, 1, 0, 0, 0, 1, 0, 1, 1, 1,\n",
       "       0, 0, 1, 0, 1, 0, 0, 0, 0, 0, 1, 1, 0, 0, 0, 0, 1, 1, 0, 1, 1, 0,\n",
       "       0, 1, 1, 1, 0, 0, 1, 0, 0, 0, 1, 1, 0, 0, 1, 1, 0, 1, 0, 0, 0, 0,\n",
       "       1, 1, 0, 1, 0, 1, 0, 1, 1, 0, 0, 1, 1, 0, 0, 0, 1, 1, 0, 1, 1, 1,\n",
       "       0, 0], dtype=int64)"
      ]
     },
     "metadata": {},
     "execution_count": 25
    }
   ],
   "metadata": {}
  },
  {
   "cell_type": "code",
   "execution_count": null,
   "source": [],
   "outputs": [],
   "metadata": {}
  },
  {
   "cell_type": "code",
   "execution_count": 26,
   "source": [
    "from tensorflow.keras.models import load_model\n",
    "from tensorflow.keras.preprocessing import image"
   ],
   "outputs": [],
   "metadata": {}
  },
  {
   "cell_type": "code",
   "execution_count": null,
   "source": [
    "model=load_model('model_vgg19.h5')"
   ],
   "outputs": [],
   "metadata": {}
  },
  {
   "cell_type": "code",
   "execution_count": null,
   "source": [],
   "outputs": [],
   "metadata": {}
  },
  {
   "cell_type": "code",
   "execution_count": 27,
   "source": [
    "img=image.load_img('Dataset/Test/Uninfected/2.png',target_size=(224,224))\n",
    "\n"
   ],
   "outputs": [],
   "metadata": {}
  },
  {
   "cell_type": "code",
   "execution_count": 28,
   "source": [
    "x=image.img_to_array(img)\n",
    "x"
   ],
   "outputs": [
    {
     "output_type": "execute_result",
     "data": {
      "text/plain": [
       "array([[[0., 0., 0.],\n",
       "        [0., 0., 0.],\n",
       "        [0., 0., 0.],\n",
       "        ...,\n",
       "        [0., 0., 0.],\n",
       "        [0., 0., 0.],\n",
       "        [0., 0., 0.]],\n",
       "\n",
       "       [[0., 0., 0.],\n",
       "        [0., 0., 0.],\n",
       "        [0., 0., 0.],\n",
       "        ...,\n",
       "        [0., 0., 0.],\n",
       "        [0., 0., 0.],\n",
       "        [0., 0., 0.]],\n",
       "\n",
       "       [[0., 0., 0.],\n",
       "        [0., 0., 0.],\n",
       "        [0., 0., 0.],\n",
       "        ...,\n",
       "        [0., 0., 0.],\n",
       "        [0., 0., 0.],\n",
       "        [0., 0., 0.]],\n",
       "\n",
       "       ...,\n",
       "\n",
       "       [[0., 0., 0.],\n",
       "        [0., 0., 0.],\n",
       "        [0., 0., 0.],\n",
       "        ...,\n",
       "        [0., 0., 0.],\n",
       "        [0., 0., 0.],\n",
       "        [0., 0., 0.]],\n",
       "\n",
       "       [[0., 0., 0.],\n",
       "        [0., 0., 0.],\n",
       "        [0., 0., 0.],\n",
       "        ...,\n",
       "        [0., 0., 0.],\n",
       "        [0., 0., 0.],\n",
       "        [0., 0., 0.]],\n",
       "\n",
       "       [[0., 0., 0.],\n",
       "        [0., 0., 0.],\n",
       "        [0., 0., 0.],\n",
       "        ...,\n",
       "        [0., 0., 0.],\n",
       "        [0., 0., 0.],\n",
       "        [0., 0., 0.]]], dtype=float32)"
      ]
     },
     "metadata": {},
     "execution_count": 28
    }
   ],
   "metadata": {}
  },
  {
   "cell_type": "code",
   "execution_count": 29,
   "source": [
    "x.shape"
   ],
   "outputs": [
    {
     "output_type": "execute_result",
     "data": {
      "text/plain": [
       "(224, 224, 3)"
      ]
     },
     "metadata": {},
     "execution_count": 29
    }
   ],
   "metadata": {}
  },
  {
   "cell_type": "code",
   "execution_count": 30,
   "source": [
    "x=x/255"
   ],
   "outputs": [],
   "metadata": {}
  },
  {
   "cell_type": "code",
   "execution_count": 31,
   "source": [
    "x=np.expand_dims(x,axis=0)\n",
    "img_data=preprocess_input(x)\n",
    "img_data.shape"
   ],
   "outputs": [
    {
     "output_type": "execute_result",
     "data": {
      "text/plain": [
       "(1, 224, 224, 3)"
      ]
     },
     "metadata": {},
     "execution_count": 31
    }
   ],
   "metadata": {}
  },
  {
   "cell_type": "code",
   "execution_count": 32,
   "source": [
    "model.predict(img_data)"
   ],
   "outputs": [
    {
     "output_type": "execute_result",
     "data": {
      "text/plain": [
       "array([[0., 1.]], dtype=float32)"
      ]
     },
     "metadata": {},
     "execution_count": 32
    }
   ],
   "metadata": {}
  },
  {
   "cell_type": "code",
   "execution_count": 33,
   "source": [
    "a=np.argmax(model.predict(img_data), axis=1)"
   ],
   "outputs": [],
   "metadata": {}
  },
  {
   "cell_type": "code",
   "execution_count": 34,
   "source": [
    "if(a==1):\n",
    "    print(\"Uninfected\")\n",
    "else:\n",
    "    print(\"Infected\")"
   ],
   "outputs": [
    {
     "output_type": "stream",
     "name": "stdout",
     "text": [
      "Uninfected\n"
     ]
    }
   ],
   "metadata": {}
  },
  {
   "cell_type": "code",
   "execution_count": null,
   "source": [],
   "outputs": [],
   "metadata": {}
  },
  {
   "cell_type": "code",
   "execution_count": null,
   "source": [],
   "outputs": [],
   "metadata": {}
  }
 ],
 "metadata": {
  "kernelspec": {
   "name": "python3",
   "display_name": "Python 3.9.7 64-bit"
  },
  "language_info": {
   "codemirror_mode": {
    "name": "ipython",
    "version": 3
   },
   "file_extension": ".py",
   "mimetype": "text/x-python",
   "name": "python",
   "nbconvert_exporter": "python",
   "pygments_lexer": "ipython3",
   "version": "3.9.7"
  },
  "interpreter": {
   "hash": "286d3fdb769230e0d4f7ef4ec40e06171c53a07ee8704f0587d6f1e0680c4628"
  }
 },
 "nbformat": 4,
 "nbformat_minor": 2
}